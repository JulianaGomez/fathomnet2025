{
 "cells": [
  {
   "cell_type": "markdown",
   "id": "5765d767",
   "metadata": {
    "papermill": {
     "duration": 0.006376,
     "end_time": "2025-03-20T21:24:53.983361",
     "exception": false,
     "start_time": "2025-03-20T21:24:53.976985",
     "status": "completed"
    },
    "tags": []
   },
   "source": [
    "# Questions"
   ]
  },
  {
   "cell_type": "markdown",
   "id": "d7a396d2",
   "metadata": {
    "papermill": {
     "duration": 0.0055,
     "end_time": "2025-03-20T21:24:53.994788",
     "exception": false,
     "start_time": "2025-03-20T21:24:53.989288",
     "status": "completed"
    },
    "tags": []
   },
   "source": [
    "1. How do we tackle differently-sized images?\n",
    "* If we clip them down, we lose the bounding boxes and target taxon.\n",
    "* If we standardize them by padding them, would we inadvertently train the model on the padding instead of the image?"
   ]
  },
  {
   "cell_type": "markdown",
   "id": "1daf2173",
   "metadata": {
    "papermill": {
     "duration": 0.005433,
     "end_time": "2025-03-20T21:24:54.005863",
     "exception": false,
     "start_time": "2025-03-20T21:24:54.000430",
     "status": "completed"
    },
    "tags": []
   },
   "source": [
    "# Libraries"
   ]
  },
  {
   "cell_type": "code",
   "execution_count": 1,
   "id": "0dc7a6b5",
   "metadata": {
    "_cell_guid": "b1076dfc-b9ad-4769-8c92-a6c4dae69d19",
    "_uuid": "8f2839f25d086af736a60e9eeb907d3b93b6e0e5",
    "execution": {
     "iopub.execute_input": "2025-03-20T21:24:54.018517Z",
     "iopub.status.busy": "2025-03-20T21:24:54.018171Z",
     "iopub.status.idle": "2025-03-20T21:24:55.011441Z",
     "shell.execute_reply": "2025-03-20T21:24:55.010017Z"
    },
    "papermill": {
     "duration": 1.002258,
     "end_time": "2025-03-20T21:24:55.013803",
     "exception": false,
     "start_time": "2025-03-20T21:24:54.011545",
     "status": "completed"
    },
    "tags": []
   },
   "outputs": [
    {
     "name": "stdout",
     "output_type": "stream",
     "text": [
      "/kaggle/input/fathomnet-2025/dataset_test.json\n",
      "/kaggle/input/fathomnet-2025/requirements.txt\n",
      "/kaggle/input/fathomnet-2025/download.py\n",
      "/kaggle/input/fathomnet-2025/dataset_train.json\n"
     ]
    }
   ],
   "source": [
    "import numpy as np \n",
    "import pandas as pd \n",
    "import os\n",
    "import json\n",
    "import re\n",
    "\n",
    "for dirname, _, filenames in os.walk('/kaggle/input'):\n",
    "    for filename in filenames:\n",
    "        print(os.path.join(dirname, filename))"
   ]
  },
  {
   "cell_type": "markdown",
   "id": "95866d2f",
   "metadata": {
    "papermill": {
     "duration": 0.005977,
     "end_time": "2025-03-20T21:24:55.026109",
     "exception": false,
     "start_time": "2025-03-20T21:24:55.020132",
     "status": "completed"
    },
    "tags": []
   },
   "source": [
    "# Import model"
   ]
  },
  {
   "cell_type": "code",
   "execution_count": 2,
   "id": "25caaf83",
   "metadata": {
    "execution": {
     "iopub.execute_input": "2025-03-20T21:24:55.039579Z",
     "iopub.status.busy": "2025-03-20T21:24:55.039047Z",
     "iopub.status.idle": "2025-03-20T21:25:07.043913Z",
     "shell.execute_reply": "2025-03-20T21:25:07.042771Z"
    },
    "papermill": {
     "duration": 12.013812,
     "end_time": "2025-03-20T21:25:07.045804",
     "exception": false,
     "start_time": "2025-03-20T21:24:55.031992",
     "status": "completed"
    },
    "tags": []
   },
   "outputs": [
    {
     "name": "stdout",
     "output_type": "stream",
     "text": [
      "  Installing build dependencies ... \u001b[?25l\u001b[?25hdone\r\n",
      "  Getting requirements to build wheel ... \u001b[?25l\u001b[?25hdone\r\n",
      "  Preparing metadata (pyproject.toml) ... \u001b[?25l\u001b[?25hdone\r\n",
      "\u001b[2K   \u001b[90m━━━━━━━━━━━━━━━━━━━━━━━━━━━━━━━━━━━━━━━━\u001b[0m \u001b[32m44.8/44.8 kB\u001b[0m \u001b[31m1.7 MB/s\u001b[0m eta \u001b[36m0:00:00\u001b[0m\r\n",
      "\u001b[?25h  Building wheel for open_clip_torch (pyproject.toml) ... \u001b[?25l\u001b[?25hdone\r\n"
     ]
    }
   ],
   "source": [
    "#taken from this starter notebook: https://www.kaggle.com/code/picekl/fungiclef25-starter-notebook\n",
    "!pip install -q git+https://github.com/mlfoundations/open_clip.git\n"
   ]
  },
  {
   "cell_type": "code",
   "execution_count": 3,
   "id": "a2d5caf1",
   "metadata": {
    "execution": {
     "iopub.execute_input": "2025-03-20T21:25:07.059726Z",
     "iopub.status.busy": "2025-03-20T21:25:07.059340Z",
     "iopub.status.idle": "2025-03-20T21:25:29.097884Z",
     "shell.execute_reply": "2025-03-20T21:25:29.096557Z"
    },
    "papermill": {
     "duration": 22.04843,
     "end_time": "2025-03-20T21:25:29.100517",
     "exception": false,
     "start_time": "2025-03-20T21:25:07.052087",
     "status": "completed"
    },
    "tags": []
   },
   "outputs": [
    {
     "data": {
      "application/vnd.jupyter.widget-view+json": {
       "model_id": "cade31663bae436b9f52f65e0dad504a",
       "version_major": 2,
       "version_minor": 0
      },
      "text/plain": [
       "open_clip_pytorch_model.bin:   0%|          | 0.00/599M [00:00<?, ?B/s]"
      ]
     },
     "metadata": {},
     "output_type": "display_data"
    },
    {
     "data": {
      "application/vnd.jupyter.widget-view+json": {
       "model_id": "2e7e81af30c747568a04461306be30be",
       "version_major": 2,
       "version_minor": 0
      },
      "text/plain": [
       "open_clip_config.json:   0%|          | 0.00/469 [00:00<?, ?B/s]"
      ]
     },
     "metadata": {},
     "output_type": "display_data"
    }
   ],
   "source": [
    "import open_clip\n",
    "\n",
    "model, preprocess_train, preprocess_val = open_clip.create_model_and_transforms('hf-hub:imageomics/bioclip')\n",
    "tokenizer = open_clip.get_tokenizer('hf-hub:imageomics/bioclip')"
   ]
  },
  {
   "cell_type": "code",
   "execution_count": 4,
   "id": "cb6a387e",
   "metadata": {
    "execution": {
     "iopub.execute_input": "2025-03-20T21:25:29.116677Z",
     "iopub.status.busy": "2025-03-20T21:25:29.116284Z",
     "iopub.status.idle": "2025-03-20T21:25:29.123881Z",
     "shell.execute_reply": "2025-03-20T21:25:29.122684Z"
    },
    "papermill": {
     "duration": 0.017329,
     "end_time": "2025-03-20T21:25:29.125711",
     "exception": false,
     "start_time": "2025-03-20T21:25:29.108382",
     "status": "completed"
    },
    "tags": []
   },
   "outputs": [
    {
     "data": {
      "text/plain": [
       "CLIP(\n",
       "  (visual): VisionTransformer(\n",
       "    (conv1): Conv2d(3, 768, kernel_size=(16, 16), stride=(16, 16), bias=False)\n",
       "    (patch_dropout): Identity()\n",
       "    (ln_pre): LayerNorm((768,), eps=1e-05, elementwise_affine=True)\n",
       "    (transformer): Transformer(\n",
       "      (resblocks): ModuleList(\n",
       "        (0-11): 12 x ResidualAttentionBlock(\n",
       "          (ln_1): LayerNorm((768,), eps=1e-05, elementwise_affine=True)\n",
       "          (attn): MultiheadAttention(\n",
       "            (out_proj): NonDynamicallyQuantizableLinear(in_features=768, out_features=768, bias=True)\n",
       "          )\n",
       "          (ls_1): Identity()\n",
       "          (ln_2): LayerNorm((768,), eps=1e-05, elementwise_affine=True)\n",
       "          (mlp): Sequential(\n",
       "            (c_fc): Linear(in_features=768, out_features=3072, bias=True)\n",
       "            (gelu): GELU(approximate='none')\n",
       "            (c_proj): Linear(in_features=3072, out_features=768, bias=True)\n",
       "          )\n",
       "          (ls_2): Identity()\n",
       "        )\n",
       "      )\n",
       "    )\n",
       "    (ln_post): LayerNorm((768,), eps=1e-05, elementwise_affine=True)\n",
       "  )\n",
       "  (transformer): Transformer(\n",
       "    (resblocks): ModuleList(\n",
       "      (0-11): 12 x ResidualAttentionBlock(\n",
       "        (ln_1): LayerNorm((512,), eps=1e-05, elementwise_affine=True)\n",
       "        (attn): MultiheadAttention(\n",
       "          (out_proj): NonDynamicallyQuantizableLinear(in_features=512, out_features=512, bias=True)\n",
       "        )\n",
       "        (ls_1): Identity()\n",
       "        (ln_2): LayerNorm((512,), eps=1e-05, elementwise_affine=True)\n",
       "        (mlp): Sequential(\n",
       "          (c_fc): Linear(in_features=512, out_features=2048, bias=True)\n",
       "          (gelu): GELU(approximate='none')\n",
       "          (c_proj): Linear(in_features=2048, out_features=512, bias=True)\n",
       "        )\n",
       "        (ls_2): Identity()\n",
       "      )\n",
       "    )\n",
       "  )\n",
       "  (token_embedding): Embedding(49408, 512)\n",
       "  (ln_final): LayerNorm((512,), eps=1e-05, elementwise_affine=True)\n",
       ")"
      ]
     },
     "execution_count": 4,
     "metadata": {},
     "output_type": "execute_result"
    }
   ],
   "source": [
    "model"
   ]
  },
  {
   "cell_type": "code",
   "execution_count": 5,
   "id": "891eac4d",
   "metadata": {
    "execution": {
     "iopub.execute_input": "2025-03-20T21:25:29.142975Z",
     "iopub.status.busy": "2025-03-20T21:25:29.142455Z",
     "iopub.status.idle": "2025-03-20T21:25:29.149395Z",
     "shell.execute_reply": "2025-03-20T21:25:29.148082Z"
    },
    "papermill": {
     "duration": 0.016656,
     "end_time": "2025-03-20T21:25:29.151079",
     "exception": false,
     "start_time": "2025-03-20T21:25:29.134423",
     "status": "completed"
    },
    "tags": []
   },
   "outputs": [
    {
     "data": {
      "text/plain": [
       "<open_clip.tokenizer.SimpleTokenizer at 0x7ff664e68520>"
      ]
     },
     "execution_count": 5,
     "metadata": {},
     "output_type": "execute_result"
    }
   ],
   "source": [
    "tokenizer"
   ]
  },
  {
   "cell_type": "markdown",
   "id": "137e16cd",
   "metadata": {
    "papermill": {
     "duration": 0.006477,
     "end_time": "2025-03-20T21:25:29.164693",
     "exception": false,
     "start_time": "2025-03-20T21:25:29.158216",
     "status": "completed"
    },
    "tags": []
   },
   "source": [
    "# Explore train data"
   ]
  },
  {
   "cell_type": "markdown",
   "id": "b61a9188",
   "metadata": {
    "papermill": {
     "duration": 0.008274,
     "end_time": "2025-03-20T21:25:29.184048",
     "exception": false,
     "start_time": "2025-03-20T21:25:29.175774",
     "status": "completed"
    },
    "tags": []
   },
   "source": [
    "Load and inspect the JSON structure of the train set: \n",
    "\n",
    "1. Check whether it's a list or a dictionary\n",
    "2. If it's a list, check the number of items and the first item\n",
    "3. If it's a dictionary, check the keys and the values for the first key"
   ]
  },
  {
   "cell_type": "code",
   "execution_count": 6,
   "id": "e89600d8",
   "metadata": {
    "execution": {
     "iopub.execute_input": "2025-03-20T21:25:29.200222Z",
     "iopub.status.busy": "2025-03-20T21:25:29.199746Z",
     "iopub.status.idle": "2025-03-20T21:25:29.694438Z",
     "shell.execute_reply": "2025-03-20T21:25:29.693077Z"
    },
    "papermill": {
     "duration": 0.505358,
     "end_time": "2025-03-20T21:25:29.696352",
     "exception": false,
     "start_time": "2025-03-20T21:25:29.190994",
     "status": "completed"
    },
    "tags": []
   },
   "outputs": [
    {
     "name": "stdout",
     "output_type": "stream",
     "text": [
      "<class 'dict'>\n",
      "dict_keys(['info', 'images', 'licenses', 'annotations', 'categories'])\n",
      "{'year': 2025, 'version': '0', 'description': 'Generated by FathomNet', 'contributor': 'FathomNet', 'url': 'https://database.fathomnet.org', 'date_created': '2025/01/08'}\n"
     ]
    }
   ],
   "source": [
    "with open('/kaggle/input/fathomnet-2025/dataset_train.json', 'r') as f:\n",
    "    train_data = json.load(f)\n",
    "\n",
    "print(type(train_data))  \n",
    "if isinstance(train_data, list):\n",
    "    print(len(train_data))  \n",
    "    print(train_data[0])  \n",
    "elif isinstance(train_data, dict):\n",
    "    print(train_data.keys())  \n",
    "    print(train_data[list(train_data.keys())[0]])"
   ]
  },
  {
   "cell_type": "markdown",
   "id": "99c6eb64",
   "metadata": {
    "papermill": {
     "duration": 0.006674,
     "end_time": "2025-03-20T21:25:29.710007",
     "exception": false,
     "start_time": "2025-03-20T21:25:29.703333",
     "status": "completed"
    },
    "tags": []
   },
   "source": [
    "Since it's a dictionary, create pandas dataframes for each of the keys and inspect them. "
   ]
  },
  {
   "cell_type": "code",
   "execution_count": 7,
   "id": "c7ae5929",
   "metadata": {
    "_kg_hide-input": true,
    "execution": {
     "iopub.execute_input": "2025-03-20T21:25:29.724580Z",
     "iopub.status.busy": "2025-03-20T21:25:29.724205Z",
     "iopub.status.idle": "2025-03-20T21:25:29.794473Z",
     "shell.execute_reply": "2025-03-20T21:25:29.793345Z"
    },
    "papermill": {
     "duration": 0.07968,
     "end_time": "2025-03-20T21:25:29.796392",
     "exception": false,
     "start_time": "2025-03-20T21:25:29.716712",
     "status": "completed"
    },
    "tags": []
   },
   "outputs": [
    {
     "name": "stdout",
     "output_type": "stream",
     "text": [
      "dict_keys(['images', 'licenses', 'annotations', 'categories'])\n"
     ]
    }
   ],
   "source": [
    "def load_data(key, data):\n",
    "    return pd.DataFrame(data[key])\n",
    "\n",
    "# create a dataframe with keys whose values are lists\n",
    "dataframes = {key: load_data(key, train_data) for key in train_data.keys() if isinstance(train_data[key], list)}\n",
    "print(dataframes.keys())\n"
   ]
  },
  {
   "cell_type": "markdown",
   "id": "425fa988",
   "metadata": {
    "papermill": {
     "duration": 0.006704,
     "end_time": "2025-03-20T21:25:29.810058",
     "exception": false,
     "start_time": "2025-03-20T21:25:29.803354",
     "status": "completed"
    },
    "tags": []
   },
   "source": [
    "## Information"
   ]
  },
  {
   "cell_type": "code",
   "execution_count": 8,
   "id": "2c608d11",
   "metadata": {
    "execution": {
     "iopub.execute_input": "2025-03-20T21:25:29.824501Z",
     "iopub.status.busy": "2025-03-20T21:25:29.824123Z",
     "iopub.status.idle": "2025-03-20T21:25:29.850018Z",
     "shell.execute_reply": "2025-03-20T21:25:29.848897Z"
    },
    "papermill": {
     "duration": 0.035238,
     "end_time": "2025-03-20T21:25:29.851827",
     "exception": false,
     "start_time": "2025-03-20T21:25:29.816589",
     "status": "completed"
    },
    "tags": []
   },
   "outputs": [
    {
     "data": {
      "text/html": [
       "<div>\n",
       "<style scoped>\n",
       "    .dataframe tbody tr th:only-of-type {\n",
       "        vertical-align: middle;\n",
       "    }\n",
       "\n",
       "    .dataframe tbody tr th {\n",
       "        vertical-align: top;\n",
       "    }\n",
       "\n",
       "    .dataframe thead th {\n",
       "        text-align: right;\n",
       "    }\n",
       "</style>\n",
       "<table border=\"1\" class=\"dataframe\">\n",
       "  <thead>\n",
       "    <tr style=\"text-align: right;\">\n",
       "      <th></th>\n",
       "      <th>year</th>\n",
       "      <th>version</th>\n",
       "      <th>description</th>\n",
       "      <th>contributor</th>\n",
       "      <th>url</th>\n",
       "      <th>date_created</th>\n",
       "    </tr>\n",
       "  </thead>\n",
       "  <tbody>\n",
       "    <tr>\n",
       "      <th>0</th>\n",
       "      <td>2025</td>\n",
       "      <td>0</td>\n",
       "      <td>Generated by FathomNet</td>\n",
       "      <td>FathomNet</td>\n",
       "      <td>https://database.fathomnet.org</td>\n",
       "      <td>2025/01/08</td>\n",
       "    </tr>\n",
       "  </tbody>\n",
       "</table>\n",
       "</div>"
      ],
      "text/plain": [
       "   year version             description contributor  \\\n",
       "0  2025       0  Generated by FathomNet   FathomNet   \n",
       "\n",
       "                              url date_created  \n",
       "0  https://database.fathomnet.org   2025/01/08  "
      ]
     },
     "execution_count": 8,
     "metadata": {},
     "output_type": "execute_result"
    }
   ],
   "source": [
    "dataframes['info'] = pd.DataFrame([train_data['info']])\n",
    "dataframes['info'].head()\n"
   ]
  },
  {
   "cell_type": "markdown",
   "id": "ce9e2072",
   "metadata": {
    "papermill": {
     "duration": 0.006542,
     "end_time": "2025-03-20T21:25:29.865433",
     "exception": false,
     "start_time": "2025-03-20T21:25:29.858891",
     "status": "completed"
    },
    "tags": []
   },
   "source": [
    "## Images\n",
    "\n",
    "- Image dimensions differ: standardize? But bounding boxes might be lost, so maybe add padding to smaller ones. \n",
    "- some missing data for `date_captured`. Is this relevant to our analysis? Maybe it is, because of the granularity of the photo: check dates.  \n",
    "`file_name` follows same logic, so we could use regex to query them.\n",
    "- `license`: are all 0, can be discarded. \n",
    "- `flickr_url` and `coco_url`are identical, one can be dropped. "
   ]
  },
  {
   "cell_type": "code",
   "execution_count": 9,
   "id": "3b83f588",
   "metadata": {
    "execution": {
     "iopub.execute_input": "2025-03-20T21:25:29.880486Z",
     "iopub.status.busy": "2025-03-20T21:25:29.880129Z",
     "iopub.status.idle": "2025-03-20T21:25:29.892382Z",
     "shell.execute_reply": "2025-03-20T21:25:29.891358Z"
    },
    "papermill": {
     "duration": 0.021636,
     "end_time": "2025-03-20T21:25:29.893930",
     "exception": false,
     "start_time": "2025-03-20T21:25:29.872294",
     "status": "completed"
    },
    "tags": []
   },
   "outputs": [
    {
     "name": "stdout",
     "output_type": "stream",
     "text": [
      "There are 8981 images in the train dataset, id and file_name unique per image.\n"
     ]
    },
    {
     "data": {
      "text/html": [
       "<div>\n",
       "<style scoped>\n",
       "    .dataframe tbody tr th:only-of-type {\n",
       "        vertical-align: middle;\n",
       "    }\n",
       "\n",
       "    .dataframe tbody tr th {\n",
       "        vertical-align: top;\n",
       "    }\n",
       "\n",
       "    .dataframe thead th {\n",
       "        text-align: right;\n",
       "    }\n",
       "</style>\n",
       "<table border=\"1\" class=\"dataframe\">\n",
       "  <thead>\n",
       "    <tr style=\"text-align: right;\">\n",
       "      <th></th>\n",
       "      <th>id</th>\n",
       "      <th>width</th>\n",
       "      <th>height</th>\n",
       "      <th>file_name</th>\n",
       "      <th>license</th>\n",
       "      <th>flickr_url</th>\n",
       "      <th>coco_url</th>\n",
       "      <th>date_captured</th>\n",
       "    </tr>\n",
       "  </thead>\n",
       "  <tbody>\n",
       "    <tr>\n",
       "      <th>0</th>\n",
       "      <td>1</td>\n",
       "      <td>720</td>\n",
       "      <td>368</td>\n",
       "      <td>67cda248-6d28-4801-9c4e-e4525189ea38.png</td>\n",
       "      <td>0</td>\n",
       "      <td>https://database.fathomnet.org/static/m3/frame...</td>\n",
       "      <td>https://database.fathomnet.org/static/m3/frame...</td>\n",
       "      <td>2008-12-19 19:46:56</td>\n",
       "    </tr>\n",
       "    <tr>\n",
       "      <th>1</th>\n",
       "      <td>2</td>\n",
       "      <td>1920</td>\n",
       "      <td>1080</td>\n",
       "      <td>d9b399f3-8628-4138-a339-f4520be751c5.png</td>\n",
       "      <td>0</td>\n",
       "      <td>https://database.fathomnet.org/static/m3/frame...</td>\n",
       "      <td>https://database.fathomnet.org/static/m3/frame...</td>\n",
       "      <td>2019-05-30 16:41:04</td>\n",
       "    </tr>\n",
       "    <tr>\n",
       "      <th>2</th>\n",
       "      <td>3</td>\n",
       "      <td>1920</td>\n",
       "      <td>1080</td>\n",
       "      <td>3289c3e1-40f2-4512-992f-3fa406b50a86.png</td>\n",
       "      <td>0</td>\n",
       "      <td>https://database.fathomnet.org/static/m3/frame...</td>\n",
       "      <td>https://database.fathomnet.org/static/m3/frame...</td>\n",
       "      <td>2014-06-05 20:04:19</td>\n",
       "    </tr>\n",
       "    <tr>\n",
       "      <th>3</th>\n",
       "      <td>4</td>\n",
       "      <td>1920</td>\n",
       "      <td>1080</td>\n",
       "      <td>801dc37d-1aac-49ac-9067-93ae4bb7c8b6.png</td>\n",
       "      <td>0</td>\n",
       "      <td>https://database.fathomnet.org/static/m3/frame...</td>\n",
       "      <td>https://database.fathomnet.org/static/m3/frame...</td>\n",
       "      <td>2017-12-21 15:37:28</td>\n",
       "    </tr>\n",
       "    <tr>\n",
       "      <th>4</th>\n",
       "      <td>5</td>\n",
       "      <td>1920</td>\n",
       "      <td>1080</td>\n",
       "      <td>0026b62d-3ebc-4a70-b62e-5767a4e5f8b8.png</td>\n",
       "      <td>0</td>\n",
       "      <td>https://database.fathomnet.org/static/m3/frame...</td>\n",
       "      <td>https://database.fathomnet.org/static/m3/frame...</td>\n",
       "      <td>2021-08-14 16:25:58</td>\n",
       "    </tr>\n",
       "  </tbody>\n",
       "</table>\n",
       "</div>"
      ],
      "text/plain": [
       "   id  width  height                                 file_name  license  \\\n",
       "0   1    720     368  67cda248-6d28-4801-9c4e-e4525189ea38.png        0   \n",
       "1   2   1920    1080  d9b399f3-8628-4138-a339-f4520be751c5.png        0   \n",
       "2   3   1920    1080  3289c3e1-40f2-4512-992f-3fa406b50a86.png        0   \n",
       "3   4   1920    1080  801dc37d-1aac-49ac-9067-93ae4bb7c8b6.png        0   \n",
       "4   5   1920    1080  0026b62d-3ebc-4a70-b62e-5767a4e5f8b8.png        0   \n",
       "\n",
       "                                          flickr_url  \\\n",
       "0  https://database.fathomnet.org/static/m3/frame...   \n",
       "1  https://database.fathomnet.org/static/m3/frame...   \n",
       "2  https://database.fathomnet.org/static/m3/frame...   \n",
       "3  https://database.fathomnet.org/static/m3/frame...   \n",
       "4  https://database.fathomnet.org/static/m3/frame...   \n",
       "\n",
       "                                            coco_url        date_captured  \n",
       "0  https://database.fathomnet.org/static/m3/frame...  2008-12-19 19:46:56  \n",
       "1  https://database.fathomnet.org/static/m3/frame...  2019-05-30 16:41:04  \n",
       "2  https://database.fathomnet.org/static/m3/frame...  2014-06-05 20:04:19  \n",
       "3  https://database.fathomnet.org/static/m3/frame...  2017-12-21 15:37:28  \n",
       "4  https://database.fathomnet.org/static/m3/frame...  2021-08-14 16:25:58  "
      ]
     },
     "execution_count": 9,
     "metadata": {},
     "output_type": "execute_result"
    }
   ],
   "source": [
    "num_images = len(dataframes['images'])\n",
    "print(f'There are {num_images} images in the train dataset, id and file_name unique per image.')\n",
    "\n",
    "dataframes['images'].head()\n"
   ]
  },
  {
   "cell_type": "code",
   "execution_count": 10,
   "id": "b8d0fa9a",
   "metadata": {
    "execution": {
     "iopub.execute_input": "2025-03-20T21:25:29.910443Z",
     "iopub.status.busy": "2025-03-20T21:25:29.910098Z",
     "iopub.status.idle": "2025-03-20T21:25:29.940962Z",
     "shell.execute_reply": "2025-03-20T21:25:29.939723Z"
    },
    "papermill": {
     "duration": 0.041461,
     "end_time": "2025-03-20T21:25:29.942682",
     "exception": false,
     "start_time": "2025-03-20T21:25:29.901221",
     "status": "completed"
    },
    "tags": []
   },
   "outputs": [
    {
     "name": "stdout",
     "output_type": "stream",
     "text": [
      "All licenses are of type 0, 'license' column can be discarded.\n",
      "Columns flickr_url and coco_url are identical, one column can be discarded.\n",
      "All filenames follow the same pattern.\n",
      "Images range from 229 to 2048 in width and 237 to 1080 in height.\n"
     ]
    }
   ],
   "source": [
    "# Data quality check \n",
    "if dataframes['images']['license'].unique() == 0:\n",
    "    print(\"All licenses are of type 0, 'license' column can be discarded.\")\n",
    "\n",
    "if dataframes['images']['flickr_url'].equals(dataframes['images']['coco_url'])  :\n",
    "    print(\"Columns flickr_url and coco_url are identical, one column can be discarded.\")\n",
    "\n",
    "filename_pattern = re.compile(r'^[a-f0-9]{8}-[a-f0-9]{4}-[a-f0-9]{4}-[a-f0-9]{4}-[a-f0-9]{12}\\.png$')\n",
    "def validate_filenames(filenames):\n",
    "    invalid_filenames = []\n",
    "    for filename in filenames:\n",
    "        if not filename_pattern.match(filename):\n",
    "            invalid_filenames.append(filename)\n",
    "    return invalid_filenames\n",
    "\n",
    "# Perform validation\n",
    "assert len(dataframes['images']['file_name'].unique()), len(dataframes['images']) \n",
    "assert len(dataframes['images']['id'].unique()), len(dataframes['images']['file_name'].unique())\n",
    "\n",
    "invalid_files = validate_filenames(dataframes['images']['file_name'])\n",
    "\n",
    "if invalid_files:\n",
    "    print(\"Invalid filenames detected:\")\n",
    "    print(invalid_files)\n",
    "else:\n",
    "    print(f\"All filenames follow the same pattern.\")\n",
    "\n",
    "\n",
    "min_width = dataframes['images']['width'].min()\n",
    "max_width = dataframes['images']['width'].max()\n",
    "min_height = dataframes['images']['height'].min()\n",
    "max_height = dataframes['images']['height'].max()\n",
    "\n",
    "\n",
    "print(f'Images range from {min_width} to {max_width} in width and {min_height} to {max_height} in height.')"
   ]
  },
  {
   "cell_type": "code",
   "execution_count": 11,
   "id": "79b3faa5",
   "metadata": {
    "execution": {
     "iopub.execute_input": "2025-03-20T21:25:29.958178Z",
     "iopub.status.busy": "2025-03-20T21:25:29.957819Z",
     "iopub.status.idle": "2025-03-20T21:25:30.320273Z",
     "shell.execute_reply": "2025-03-20T21:25:30.319046Z"
    },
    "papermill": {
     "duration": 0.37226,
     "end_time": "2025-03-20T21:25:30.322135",
     "exception": false,
     "start_time": "2025-03-20T21:25:29.949875",
     "status": "completed"
    },
    "tags": []
   },
   "outputs": [
    {
     "data": {
      "text/plain": [
       "<Axes: >"
      ]
     },
     "execution_count": 11,
     "metadata": {},
     "output_type": "execute_result"
    },
    {
     "data": {
      "image/png": "[encoded data removed]",
      "text/plain": [
       "<Figure size 640x480 with 1 Axes>"
      ]
     },
     "metadata": {},
     "output_type": "display_data"
    }
   ],
   "source": [
    "#width and height\n",
    "dataframes['images']['width'].hist()\n",
    "dataframes['images']['height'].hist()"
   ]
  },
  {
   "cell_type": "code",
   "execution_count": 12,
   "id": "4393e88e",
   "metadata": {
    "execution": {
     "iopub.execute_input": "2025-03-20T21:25:30.338826Z",
     "iopub.status.busy": "2025-03-20T21:25:30.338434Z",
     "iopub.status.idle": "2025-03-20T21:25:30.342689Z",
     "shell.execute_reply": "2025-03-20T21:25:30.341624Z"
    },
    "papermill": {
     "duration": 0.014346,
     "end_time": "2025-03-20T21:25:30.344323",
     "exception": false,
     "start_time": "2025-03-20T21:25:30.329977",
     "status": "completed"
    },
    "tags": []
   },
   "outputs": [],
   "source": [
    "# see time distribution of images to see if there might be difference in image quality "
   ]
  },
  {
   "cell_type": "markdown",
   "id": "71bf78b6",
   "metadata": {
    "papermill": {
     "duration": 0.007512,
     "end_time": "2025-03-20T21:25:30.359816",
     "exception": false,
     "start_time": "2025-03-20T21:25:30.352304",
     "status": "completed"
    },
    "tags": []
   },
   "source": [
    "## Licenses\n",
    "\n",
    "- License is same for all, so don't join on `id` to rest. "
   ]
  },
  {
   "cell_type": "code",
   "execution_count": 13,
   "id": "e74ac133",
   "metadata": {
    "execution": {
     "iopub.execute_input": "2025-03-20T21:25:30.376322Z",
     "iopub.status.busy": "2025-03-20T21:25:30.375956Z",
     "iopub.status.idle": "2025-03-20T21:25:30.386544Z",
     "shell.execute_reply": "2025-03-20T21:25:30.385299Z"
    },
    "papermill": {
     "duration": 0.020684,
     "end_time": "2025-03-20T21:25:30.388111",
     "exception": false,
     "start_time": "2025-03-20T21:25:30.367427",
     "status": "completed"
    },
    "tags": []
   },
   "outputs": [
    {
     "name": "stdout",
     "output_type": "stream",
     "text": [
      "1\n"
     ]
    },
    {
     "data": {
      "text/html": [
       "<div>\n",
       "<style scoped>\n",
       "    .dataframe tbody tr th:only-of-type {\n",
       "        vertical-align: middle;\n",
       "    }\n",
       "\n",
       "    .dataframe tbody tr th {\n",
       "        vertical-align: top;\n",
       "    }\n",
       "\n",
       "    .dataframe thead th {\n",
       "        text-align: right;\n",
       "    }\n",
       "</style>\n",
       "<table border=\"1\" class=\"dataframe\">\n",
       "  <thead>\n",
       "    <tr style=\"text-align: right;\">\n",
       "      <th></th>\n",
       "      <th>id</th>\n",
       "      <th>name</th>\n",
       "      <th>url</th>\n",
       "    </tr>\n",
       "  </thead>\n",
       "  <tbody>\n",
       "    <tr>\n",
       "      <th>0</th>\n",
       "      <td>0</td>\n",
       "      <td>FathomNet</td>\n",
       "      <td>http://fathomnet.org/fathomnet/#/license</td>\n",
       "    </tr>\n",
       "  </tbody>\n",
       "</table>\n",
       "</div>"
      ],
      "text/plain": [
       "   id       name                                       url\n",
       "0   0  FathomNet  http://fathomnet.org/fathomnet/#/license"
      ]
     },
     "execution_count": 13,
     "metadata": {},
     "output_type": "execute_result"
    }
   ],
   "source": [
    "print(len(dataframes['licenses']['id'].unique()))\n",
    "dataframes['licenses'].head()"
   ]
  },
  {
   "cell_type": "markdown",
   "id": "3fa6fcb2",
   "metadata": {
    "papermill": {
     "duration": 0.007823,
     "end_time": "2025-03-20T21:25:30.404606",
     "exception": false,
     "start_time": "2025-03-20T21:25:30.396783",
     "status": "completed"
    },
    "tags": []
   },
   "source": [
    "## Annotations\n",
    "\n",
    "- `id`: bounding boxes (23700)\n",
    "- `image_id`: images (8981) can join to annotations on `annotations.image_id`\n",
    "- `category_id`: classes (taxa) 79. Can join to  \n",
    "- Some images have more than one bounding box (i.e. more than one taxon). "
   ]
  },
  {
   "cell_type": "code",
   "execution_count": 14,
   "id": "24823981",
   "metadata": {
    "execution": {
     "iopub.execute_input": "2025-03-20T21:25:30.421585Z",
     "iopub.status.busy": "2025-03-20T21:25:30.421185Z",
     "iopub.status.idle": "2025-03-20T21:25:30.436552Z",
     "shell.execute_reply": "2025-03-20T21:25:30.435497Z"
    },
    "papermill": {
     "duration": 0.025605,
     "end_time": "2025-03-20T21:25:30.438184",
     "exception": false,
     "start_time": "2025-03-20T21:25:30.412579",
     "status": "completed"
    },
    "tags": []
   },
   "outputs": [
    {
     "name": "stdout",
     "output_type": "stream",
     "text": [
      "There are 23699 annotations in the train dataset, and 300 observations per class\n"
     ]
    },
    {
     "data": {
      "text/html": [
       "<div>\n",
       "<style scoped>\n",
       "    .dataframe tbody tr th:only-of-type {\n",
       "        vertical-align: middle;\n",
       "    }\n",
       "\n",
       "    .dataframe tbody tr th {\n",
       "        vertical-align: top;\n",
       "    }\n",
       "\n",
       "    .dataframe thead th {\n",
       "        text-align: right;\n",
       "    }\n",
       "</style>\n",
       "<table border=\"1\" class=\"dataframe\">\n",
       "  <thead>\n",
       "    <tr style=\"text-align: right;\">\n",
       "      <th></th>\n",
       "      <th>id</th>\n",
       "      <th>image_id</th>\n",
       "      <th>category_id</th>\n",
       "      <th>segmentation</th>\n",
       "      <th>area</th>\n",
       "      <th>bbox</th>\n",
       "      <th>iscrowd</th>\n",
       "    </tr>\n",
       "  </thead>\n",
       "  <tbody>\n",
       "    <tr>\n",
       "      <th>0</th>\n",
       "      <td>1</td>\n",
       "      <td>1</td>\n",
       "      <td>71</td>\n",
       "      <td>[]</td>\n",
       "      <td>943.0</td>\n",
       "      <td>[491.0, 254.0, 23.0, 41.0]</td>\n",
       "      <td>0</td>\n",
       "    </tr>\n",
       "    <tr>\n",
       "      <th>1</th>\n",
       "      <td>2</td>\n",
       "      <td>2</td>\n",
       "      <td>8</td>\n",
       "      <td>[]</td>\n",
       "      <td>71577.0</td>\n",
       "      <td>[701.0, 505.0, 241.0, 297.0]</td>\n",
       "      <td>0</td>\n",
       "    </tr>\n",
       "    <tr>\n",
       "      <th>2</th>\n",
       "      <td>3</td>\n",
       "      <td>3</td>\n",
       "      <td>67</td>\n",
       "      <td>[]</td>\n",
       "      <td>533148.0</td>\n",
       "      <td>[458.0, 332.0, 924.0, 577.0]</td>\n",
       "      <td>0</td>\n",
       "    </tr>\n",
       "    <tr>\n",
       "      <th>3</th>\n",
       "      <td>4</td>\n",
       "      <td>4</td>\n",
       "      <td>37</td>\n",
       "      <td>[]</td>\n",
       "      <td>299186.0</td>\n",
       "      <td>[1155.0, 71.0, 659.0, 454.0]</td>\n",
       "      <td>0</td>\n",
       "    </tr>\n",
       "    <tr>\n",
       "      <th>4</th>\n",
       "      <td>5</td>\n",
       "      <td>4</td>\n",
       "      <td>37</td>\n",
       "      <td>[]</td>\n",
       "      <td>520650.0</td>\n",
       "      <td>[66.0, 6.0, 975.0, 534.0]</td>\n",
       "      <td>0</td>\n",
       "    </tr>\n",
       "  </tbody>\n",
       "</table>\n",
       "</div>"
      ],
      "text/plain": [
       "   id  image_id  category_id segmentation      area  \\\n",
       "0   1         1           71           []     943.0   \n",
       "1   2         2            8           []   71577.0   \n",
       "2   3         3           67           []  533148.0   \n",
       "3   4         4           37           []  299186.0   \n",
       "4   5         4           37           []  520650.0   \n",
       "\n",
       "                           bbox  iscrowd  \n",
       "0    [491.0, 254.0, 23.0, 41.0]        0  \n",
       "1  [701.0, 505.0, 241.0, 297.0]        0  \n",
       "2  [458.0, 332.0, 924.0, 577.0]        0  \n",
       "3  [1155.0, 71.0, 659.0, 454.0]        0  \n",
       "4     [66.0, 6.0, 975.0, 534.0]        0  "
      ]
     },
     "execution_count": 14,
     "metadata": {},
     "output_type": "execute_result"
    }
   ],
   "source": [
    "num_annot = len(dataframes['annotations'])\n",
    "print(f'There are {num_annot} annotations in the train dataset, and {round(num_annot/79)} observations per class')\n",
    "dataframes['annotations'].head()\n"
   ]
  },
  {
   "cell_type": "code",
   "execution_count": 15,
   "id": "21d0d179",
   "metadata": {
    "execution": {
     "iopub.execute_input": "2025-03-20T21:25:30.455906Z",
     "iopub.status.busy": "2025-03-20T21:25:30.455553Z",
     "iopub.status.idle": "2025-03-20T21:25:30.463338Z",
     "shell.execute_reply": "2025-03-20T21:25:30.462320Z"
    },
    "papermill": {
     "duration": 0.018313,
     "end_time": "2025-03-20T21:25:30.464887",
     "exception": false,
     "start_time": "2025-03-20T21:25:30.446574",
     "status": "completed"
    },
    "tags": []
   },
   "outputs": [
    {
     "name": "stdout",
     "output_type": "stream",
     "text": [
      "ID: 23699\n",
      "Category ID: 79\n",
      "Image ID: 8980\n"
     ]
    }
   ],
   "source": [
    "#check that category_id corresponds to number of classes - yes\n",
    "\n",
    "print(\"ID:\",len(dataframes['annotations']['id'].unique()))\n",
    "print(\"Category ID:\", len(dataframes['annotations']['category_id'].unique()))\n",
    "print(\"Image ID:\",len(dataframes['annotations']['image_id'].unique()))\n"
   ]
  },
  {
   "cell_type": "markdown",
   "id": "23aced9b",
   "metadata": {
    "papermill": {
     "duration": 0.007658,
     "end_time": "2025-03-20T21:25:30.480923",
     "exception": false,
     "start_time": "2025-03-20T21:25:30.473265",
     "status": "completed"
    },
    "tags": []
   },
   "source": [
    "## Categories\n",
    "\n",
    "- Competition description: \"The training set contains 79 categories of marine animals of varying taxonomic ranks (e.g., family, genus, species), wherein 300 example instances of each category are provided for training.\"\n",
    "\n",
    "**Our EDA**\n",
    "- Categories are taxa, ranging from class (i.e. *Gastropoda*) to order (i.e. *Zoantharia*) to species (i.e. *Abyssocucumis abyssorum*)\n",
    "- Training set has 79 categories - OK"
   ]
  },
  {
   "cell_type": "code",
   "execution_count": 16,
   "id": "0d5f1ee7",
   "metadata": {
    "execution": {
     "iopub.execute_input": "2025-03-20T21:25:30.498484Z",
     "iopub.status.busy": "2025-03-20T21:25:30.497973Z",
     "iopub.status.idle": "2025-03-20T21:25:30.508779Z",
     "shell.execute_reply": "2025-03-20T21:25:30.507602Z"
    },
    "papermill": {
     "duration": 0.02147,
     "end_time": "2025-03-20T21:25:30.510366",
     "exception": false,
     "start_time": "2025-03-20T21:25:30.488896",
     "status": "completed"
    },
    "tags": []
   },
   "outputs": [
    {
     "name": "stdout",
     "output_type": "stream",
     "text": [
      "There are 79 categories (taxa) in the train dataset and 79 unqiue IDs. \n"
     ]
    },
    {
     "data": {
      "text/html": [
       "<div>\n",
       "<style scoped>\n",
       "    .dataframe tbody tr th:only-of-type {\n",
       "        vertical-align: middle;\n",
       "    }\n",
       "\n",
       "    .dataframe tbody tr th {\n",
       "        vertical-align: top;\n",
       "    }\n",
       "\n",
       "    .dataframe thead th {\n",
       "        text-align: right;\n",
       "    }\n",
       "</style>\n",
       "<table border=\"1\" class=\"dataframe\">\n",
       "  <thead>\n",
       "    <tr style=\"text-align: right;\">\n",
       "      <th></th>\n",
       "      <th>id</th>\n",
       "      <th>name</th>\n",
       "      <th>supercategory</th>\n",
       "    </tr>\n",
       "  </thead>\n",
       "  <tbody>\n",
       "    <tr>\n",
       "      <th>0</th>\n",
       "      <td>1</td>\n",
       "      <td>Abyssocucumis abyssorum</td>\n",
       "      <td></td>\n",
       "    </tr>\n",
       "    <tr>\n",
       "      <th>1</th>\n",
       "      <td>2</td>\n",
       "      <td>Acanthascinae</td>\n",
       "      <td></td>\n",
       "    </tr>\n",
       "    <tr>\n",
       "      <th>2</th>\n",
       "      <td>3</td>\n",
       "      <td>Acanthoptilum</td>\n",
       "      <td></td>\n",
       "    </tr>\n",
       "    <tr>\n",
       "      <th>3</th>\n",
       "      <td>4</td>\n",
       "      <td>Actinernus</td>\n",
       "      <td></td>\n",
       "    </tr>\n",
       "    <tr>\n",
       "      <th>4</th>\n",
       "      <td>5</td>\n",
       "      <td>Actiniaria</td>\n",
       "      <td></td>\n",
       "    </tr>\n",
       "  </tbody>\n",
       "</table>\n",
       "</div>"
      ],
      "text/plain": [
       "   id                     name supercategory\n",
       "0   1  Abyssocucumis abyssorum              \n",
       "1   2            Acanthascinae              \n",
       "2   3            Acanthoptilum              \n",
       "3   4               Actinernus              \n",
       "4   5               Actiniaria              "
      ]
     },
     "execution_count": 16,
     "metadata": {},
     "output_type": "execute_result"
    }
   ],
   "source": [
    "num_cat = len(dataframes['categories']['name'])\n",
    "num_id = len(dataframes['categories']['id'])\n",
    "\n",
    "print(f'There are {num_cat} categories (taxa) in the train dataset and {num_id} unqiue IDs. ')\n",
    "\n",
    "dataframes['categories'].head()\n"
   ]
  },
  {
   "cell_type": "code",
   "execution_count": 17,
   "id": "4c6fda5c",
   "metadata": {
    "execution": {
     "iopub.execute_input": "2025-03-20T21:25:30.529099Z",
     "iopub.status.busy": "2025-03-20T21:25:30.528754Z",
     "iopub.status.idle": "2025-03-20T21:25:30.535337Z",
     "shell.execute_reply": "2025-03-20T21:25:30.534422Z"
    },
    "papermill": {
     "duration": 0.017513,
     "end_time": "2025-03-20T21:25:30.536971",
     "exception": false,
     "start_time": "2025-03-20T21:25:30.519458",
     "status": "completed"
    },
    "tags": []
   },
   "outputs": [
    {
     "data": {
      "text/plain": [
       "array(['Abyssocucumis abyssorum', 'Acanthascinae', 'Acanthoptilum',\n",
       "       'Actinernus', 'Actiniaria', 'Actinopterygii', 'Amphipoda',\n",
       "       'Apostichopus leukothele', 'Asbestopluma',\n",
       "       'Asbestopluma monticola', 'Asteroidea', 'Benthocodon pedunculata',\n",
       "       'Brisingida', 'Caridea', 'Ceriantharia', 'Chionoecetes tanneri',\n",
       "       'Chorilia longipes', 'Corallimorphus pilatus', 'Crinoidea',\n",
       "       'Delectopecten', 'Elpidia', 'Farrea', 'Florometra serratissima',\n",
       "       'Funiculina', 'Gastropoda', 'Gersemia juliepackardae',\n",
       "       'Heterocarpus', 'Heterochone calyx', 'Heteropolypus ritteri',\n",
       "       'Hexactinellida', 'Hippasteria', 'Holothuroidea', 'Hormathiidae',\n",
       "       'Isidella tentaculum', 'Isididae', 'Isosicyonis', 'Keratoisis',\n",
       "       'Liponema brevicorne', 'Lithodidae', 'Mediaster aequalis',\n",
       "       'Merluccius productus', 'Metridium farcimen',\n",
       "       'Microstomus pacificus', 'Munidopsis', 'Munnopsidae', 'Mycale',\n",
       "       'Octopus rubescens', 'Ophiacanthidae', 'Ophiuroidea',\n",
       "       'Paelopatides confundens', 'Pandalus amplus',\n",
       "       'Pandalus platyceros', 'Pannychia moseleyi', 'Paragorgia',\n",
       "       'Paragorgia arborea', 'Paralomis multispina', 'Parastenella',\n",
       "       'Peniagone', 'Pennatula phosphorea', 'Porifera',\n",
       "       'Psathyrometra fragilis', 'Psolus squamatus',\n",
       "       'Ptychogastria polaris', 'Pyrosoma atlanticum',\n",
       "       'Rathbunaster californicus', 'Scleractinia', 'Scotoplanes',\n",
       "       'Scotoplanes globosa', 'Sebastes', 'Sebastes diploproa',\n",
       "       'Sebastolobus', 'Serpulidae', 'Staurocalyptus',\n",
       "       'Strongylocentrotus fragilis', 'Terebellidae', 'Tunicata',\n",
       "       'Umbellula', 'Vesicomyidae', 'Zoantharia'], dtype=object)"
      ]
     },
     "execution_count": 17,
     "metadata": {},
     "output_type": "execute_result"
    }
   ],
   "source": [
    "dataframes['categories']['name'].unique()"
   ]
  },
  {
   "cell_type": "code",
   "execution_count": 18,
   "id": "cb0de9c6",
   "metadata": {
    "execution": {
     "iopub.execute_input": "2025-03-20T21:25:30.555981Z",
     "iopub.status.busy": "2025-03-20T21:25:30.555582Z",
     "iopub.status.idle": "2025-03-20T21:25:30.562545Z",
     "shell.execute_reply": "2025-03-20T21:25:30.561612Z"
    },
    "papermill": {
     "duration": 0.018403,
     "end_time": "2025-03-20T21:25:30.564065",
     "exception": false,
     "start_time": "2025-03-20T21:25:30.545662",
     "status": "completed"
    },
    "tags": []
   },
   "outputs": [
    {
     "name": "stdout",
     "output_type": "stream",
     "text": [
      "There are no values in the supercategory series\n"
     ]
    },
    {
     "data": {
      "text/plain": [
       "array([''], dtype=object)"
      ]
     },
     "execution_count": 18,
     "metadata": {},
     "output_type": "execute_result"
    }
   ],
   "source": [
    "print(\"There are no values in the supercategory series\")\n",
    "dataframes['categories']['supercategory'].unique()"
   ]
  },
  {
   "cell_type": "markdown",
   "id": "3533c211",
   "metadata": {
    "papermill": {
     "duration": 0.008425,
     "end_time": "2025-03-20T21:25:30.581494",
     "exception": false,
     "start_time": "2025-03-20T21:25:30.573069",
     "status": "completed"
    },
    "tags": []
   },
   "source": [
    "# Join\n",
    "\n",
    "- Join images, annotations and categories, to check the number of images per category\n"
   ]
  },
  {
   "cell_type": "code",
   "execution_count": 19,
   "id": "2fe28b0a",
   "metadata": {
    "execution": {
     "iopub.execute_input": "2025-03-20T21:25:30.600247Z",
     "iopub.status.busy": "2025-03-20T21:25:30.599891Z",
     "iopub.status.idle": "2025-03-20T21:25:30.645713Z",
     "shell.execute_reply": "2025-03-20T21:25:30.644576Z"
    },
    "papermill": {
     "duration": 0.056997,
     "end_time": "2025-03-20T21:25:30.647284",
     "exception": false,
     "start_time": "2025-03-20T21:25:30.590287",
     "status": "completed"
    },
    "tags": []
   },
   "outputs": [
    {
     "data": {
      "text/html": [
       "<div>\n",
       "<style scoped>\n",
       "    .dataframe tbody tr th:only-of-type {\n",
       "        vertical-align: middle;\n",
       "    }\n",
       "\n",
       "    .dataframe tbody tr th {\n",
       "        vertical-align: top;\n",
       "    }\n",
       "\n",
       "    .dataframe thead th {\n",
       "        text-align: right;\n",
       "    }\n",
       "</style>\n",
       "<table border=\"1\" class=\"dataframe\">\n",
       "  <thead>\n",
       "    <tr style=\"text-align: right;\">\n",
       "      <th></th>\n",
       "      <th>id_x</th>\n",
       "      <th>image_id</th>\n",
       "      <th>category_id</th>\n",
       "      <th>segmentation</th>\n",
       "      <th>area</th>\n",
       "      <th>bbox</th>\n",
       "      <th>iscrowd</th>\n",
       "      <th>id_y</th>\n",
       "      <th>width</th>\n",
       "      <th>height</th>\n",
       "      <th>file_name</th>\n",
       "      <th>license</th>\n",
       "      <th>flickr_url</th>\n",
       "      <th>coco_url</th>\n",
       "      <th>date_captured</th>\n",
       "      <th>id</th>\n",
       "      <th>name</th>\n",
       "      <th>supercategory</th>\n",
       "    </tr>\n",
       "  </thead>\n",
       "  <tbody>\n",
       "    <tr>\n",
       "      <th>0</th>\n",
       "      <td>1</td>\n",
       "      <td>1</td>\n",
       "      <td>71</td>\n",
       "      <td>[]</td>\n",
       "      <td>943.0</td>\n",
       "      <td>[491.0, 254.0, 23.0, 41.0]</td>\n",
       "      <td>0</td>\n",
       "      <td>1</td>\n",
       "      <td>720</td>\n",
       "      <td>368</td>\n",
       "      <td>67cda248-6d28-4801-9c4e-e4525189ea38.png</td>\n",
       "      <td>0</td>\n",
       "      <td>https://database.fathomnet.org/static/m3/frame...</td>\n",
       "      <td>https://database.fathomnet.org/static/m3/frame...</td>\n",
       "      <td>2008-12-19 19:46:56</td>\n",
       "      <td>71</td>\n",
       "      <td>Sebastolobus</td>\n",
       "      <td></td>\n",
       "    </tr>\n",
       "    <tr>\n",
       "      <th>1</th>\n",
       "      <td>2</td>\n",
       "      <td>2</td>\n",
       "      <td>8</td>\n",
       "      <td>[]</td>\n",
       "      <td>71577.0</td>\n",
       "      <td>[701.0, 505.0, 241.0, 297.0]</td>\n",
       "      <td>0</td>\n",
       "      <td>2</td>\n",
       "      <td>1920</td>\n",
       "      <td>1080</td>\n",
       "      <td>d9b399f3-8628-4138-a339-f4520be751c5.png</td>\n",
       "      <td>0</td>\n",
       "      <td>https://database.fathomnet.org/static/m3/frame...</td>\n",
       "      <td>https://database.fathomnet.org/static/m3/frame...</td>\n",
       "      <td>2019-05-30 16:41:04</td>\n",
       "      <td>8</td>\n",
       "      <td>Apostichopus leukothele</td>\n",
       "      <td></td>\n",
       "    </tr>\n",
       "    <tr>\n",
       "      <th>2</th>\n",
       "      <td>3</td>\n",
       "      <td>3</td>\n",
       "      <td>67</td>\n",
       "      <td>[]</td>\n",
       "      <td>533148.0</td>\n",
       "      <td>[458.0, 332.0, 924.0, 577.0]</td>\n",
       "      <td>0</td>\n",
       "      <td>3</td>\n",
       "      <td>1920</td>\n",
       "      <td>1080</td>\n",
       "      <td>3289c3e1-40f2-4512-992f-3fa406b50a86.png</td>\n",
       "      <td>0</td>\n",
       "      <td>https://database.fathomnet.org/static/m3/frame...</td>\n",
       "      <td>https://database.fathomnet.org/static/m3/frame...</td>\n",
       "      <td>2014-06-05 20:04:19</td>\n",
       "      <td>67</td>\n",
       "      <td>Scotoplanes</td>\n",
       "      <td></td>\n",
       "    </tr>\n",
       "    <tr>\n",
       "      <th>3</th>\n",
       "      <td>4</td>\n",
       "      <td>4</td>\n",
       "      <td>37</td>\n",
       "      <td>[]</td>\n",
       "      <td>299186.0</td>\n",
       "      <td>[1155.0, 71.0, 659.0, 454.0]</td>\n",
       "      <td>0</td>\n",
       "      <td>4</td>\n",
       "      <td>1920</td>\n",
       "      <td>1080</td>\n",
       "      <td>801dc37d-1aac-49ac-9067-93ae4bb7c8b6.png</td>\n",
       "      <td>0</td>\n",
       "      <td>https://database.fathomnet.org/static/m3/frame...</td>\n",
       "      <td>https://database.fathomnet.org/static/m3/frame...</td>\n",
       "      <td>2017-12-21 15:37:28</td>\n",
       "      <td>37</td>\n",
       "      <td>Keratoisis</td>\n",
       "      <td></td>\n",
       "    </tr>\n",
       "    <tr>\n",
       "      <th>4</th>\n",
       "      <td>5</td>\n",
       "      <td>4</td>\n",
       "      <td>37</td>\n",
       "      <td>[]</td>\n",
       "      <td>520650.0</td>\n",
       "      <td>[66.0, 6.0, 975.0, 534.0]</td>\n",
       "      <td>0</td>\n",
       "      <td>4</td>\n",
       "      <td>1920</td>\n",
       "      <td>1080</td>\n",
       "      <td>801dc37d-1aac-49ac-9067-93ae4bb7c8b6.png</td>\n",
       "      <td>0</td>\n",
       "      <td>https://database.fathomnet.org/static/m3/frame...</td>\n",
       "      <td>https://database.fathomnet.org/static/m3/frame...</td>\n",
       "      <td>2017-12-21 15:37:28</td>\n",
       "      <td>37</td>\n",
       "      <td>Keratoisis</td>\n",
       "      <td></td>\n",
       "    </tr>\n",
       "  </tbody>\n",
       "</table>\n",
       "</div>"
      ],
      "text/plain": [
       "   id_x  image_id  category_id segmentation      area  \\\n",
       "0     1         1           71           []     943.0   \n",
       "1     2         2            8           []   71577.0   \n",
       "2     3         3           67           []  533148.0   \n",
       "3     4         4           37           []  299186.0   \n",
       "4     5         4           37           []  520650.0   \n",
       "\n",
       "                           bbox  iscrowd  id_y  width  height  \\\n",
       "0    [491.0, 254.0, 23.0, 41.0]        0     1    720     368   \n",
       "1  [701.0, 505.0, 241.0, 297.0]        0     2   1920    1080   \n",
       "2  [458.0, 332.0, 924.0, 577.0]        0     3   1920    1080   \n",
       "3  [1155.0, 71.0, 659.0, 454.0]        0     4   1920    1080   \n",
       "4     [66.0, 6.0, 975.0, 534.0]        0     4   1920    1080   \n",
       "\n",
       "                                  file_name  license  \\\n",
       "0  67cda248-6d28-4801-9c4e-e4525189ea38.png        0   \n",
       "1  d9b399f3-8628-4138-a339-f4520be751c5.png        0   \n",
       "2  3289c3e1-40f2-4512-992f-3fa406b50a86.png        0   \n",
       "3  801dc37d-1aac-49ac-9067-93ae4bb7c8b6.png        0   \n",
       "4  801dc37d-1aac-49ac-9067-93ae4bb7c8b6.png        0   \n",
       "\n",
       "                                          flickr_url  \\\n",
       "0  https://database.fathomnet.org/static/m3/frame...   \n",
       "1  https://database.fathomnet.org/static/m3/frame...   \n",
       "2  https://database.fathomnet.org/static/m3/frame...   \n",
       "3  https://database.fathomnet.org/static/m3/frame...   \n",
       "4  https://database.fathomnet.org/static/m3/frame...   \n",
       "\n",
       "                                            coco_url        date_captured  id  \\\n",
       "0  https://database.fathomnet.org/static/m3/frame...  2008-12-19 19:46:56  71   \n",
       "1  https://database.fathomnet.org/static/m3/frame...  2019-05-30 16:41:04   8   \n",
       "2  https://database.fathomnet.org/static/m3/frame...  2014-06-05 20:04:19  67   \n",
       "3  https://database.fathomnet.org/static/m3/frame...  2017-12-21 15:37:28  37   \n",
       "4  https://database.fathomnet.org/static/m3/frame...  2017-12-21 15:37:28  37   \n",
       "\n",
       "                      name supercategory  \n",
       "0             Sebastolobus                \n",
       "1  Apostichopus leukothele                \n",
       "2              Scotoplanes                \n",
       "3               Keratoisis                \n",
       "4               Keratoisis                "
      ]
     },
     "execution_count": 19,
     "metadata": {},
     "output_type": "execute_result"
    }
   ],
   "source": [
    "#join id in `categories` to category_id in `annotations` and \n",
    "\n",
    "# result = pd.merge(pd.merge(dataframes['images'], dataframes['annotations'], on='id', how='outer'), dataframes['categories'], on='id', how='outer')\n",
    "# result.head()\n",
    "\n",
    "\n",
    "merge_1 = dataframes['annotations'].merge(dataframes['images'], left_on='image_id', right_on='id')\n",
    "merge_2 = merge_1.merge(dataframes['categories'], left_on='category_id', right_on='id')\n",
    "merge_2.head()\n"
   ]
  },
  {
   "cell_type": "code",
   "execution_count": 20,
   "id": "f4d5fcf6",
   "metadata": {
    "execution": {
     "iopub.execute_input": "2025-03-20T21:25:30.666981Z",
     "iopub.status.busy": "2025-03-20T21:25:30.666628Z",
     "iopub.status.idle": "2025-03-20T21:25:30.676116Z",
     "shell.execute_reply": "2025-03-20T21:25:30.675158Z"
    },
    "papermill": {
     "duration": 0.021147,
     "end_time": "2025-03-20T21:25:30.677631",
     "exception": false,
     "start_time": "2025-03-20T21:25:30.656484",
     "status": "completed"
    },
    "tags": []
   },
   "outputs": [
    {
     "name": "stdout",
     "output_type": "stream",
     "text": [
      "78 taxa have 300 bounding boxes; 1 has 299.\n"
     ]
    }
   ],
   "source": [
    "how_many = sum(merge_2.name.value_counts() == 300)\n",
    "how_many_not = sum(merge_2.name.value_counts() == 299)\n",
    "\n",
    "print(f'{how_many} taxa have 300 bounding boxes; {how_many_not} has 299.')"
   ]
  }
 ],
 "metadata": {
  "kaggle": {
   "accelerator": "none",
   "dataSources": [
    {
     "databundleVersionId": 11305476,
     "sourceId": 88612,
     "sourceType": "competition"
    }
   ],
   "dockerImageVersionId": 30918,
   "isGpuEnabled": false,
   "isInternetEnabled": true,
   "language": "python",
   "sourceType": "notebook"
  },
  "kernelspec": {
   "display_name": "Python 3",
   "language": "python",
   "name": "python3"
  },
  "language_info": {
   "codemirror_mode": {
    "name": "ipython",
    "version": 3
   },
   "file_extension": ".py",
   "mimetype": "text/x-python",
   "name": "python",
   "nbconvert_exporter": "python",
   "pygments_lexer": "ipython3",
   "version": "3.10.12"
  },
  "papermill": {
   "default_parameters": {},
   "duration": 42.607598,
   "end_time": "2025-03-20T21:25:33.812428",
   "environment_variables": {},
   "exception": null,
   "input_path": "__notebook__.ipynb",
   "output_path": "__notebook__.ipynb",
   "parameters": {},
   "start_time": "2025-03-20T21:24:51.204830",
   "version": "2.6.0"
  },
  "widgets": {
   "application/vnd.jupyter.widget-state+json": {
    "state": {
     "074378318f3e47669d8722e84a65c1e8": {
      "model_module": "@jupyter-widgets/controls",
      "model_module_version": "2.0.0",
      "model_name": "HTMLStyleModel",
      "state": {
       "_model_module": "@jupyter-widgets/controls",
       "_model_module_version": "2.0.0",
       "_model_name": "HTMLStyleModel",
       "_view_count": null,
       "_view_module": "@jupyter-widgets/base",
       "_view_module_version": "2.0.0",
       "_view_name": "StyleView",
       "background": null,
       "description_width": "",
       "font_size": null,
       "text_color": null
      }
     },
     "0f7893c38b304ed6b695a85d73f1b6c7": {
      "model_module": "@jupyter-widgets/controls",
      "model_module_version": "2.0.0",
      "model_name": "ProgressStyleModel",
      "state": {
       "_model_module": "@jupyter-widgets/controls",
       "_model_module_version": "2.0.0",
       "_model_name": "ProgressStyleModel",
       "_view_count": null,
       "_view_module": "@jupyter-widgets/base",
       "_view_module_version": "2.0.0",
       "_view_name": "StyleView",
       "bar_color": null,
       "description_width": ""
      }
     },
     "2cfc969e6851484c8f26f2dee8100c74": {
      "model_module": "@jupyter-widgets/base",
      "model_module_version": "2.0.0",
      "model_name": "LayoutModel",
      "state": {
       "_model_module": "@jupyter-widgets/base",
       "_model_module_version": "2.0.0",
       "_model_name": "LayoutModel",
       "_view_count": null,
       "_view_module": "@jupyter-widgets/base",
       "_view_module_version": "2.0.0",
       "_view_name": "LayoutView",
       "align_content": null,
       "align_items": null,
       "align_self": null,
       "border_bottom": null,
       "border_left": null,
       "border_right": null,
       "border_top": null,
       "bottom": null,
       "display": null,
       "flex": null,
       "flex_flow": null,
       "grid_area": null,
       "grid_auto_columns": null,
       "grid_auto_flow": null,
       "grid_auto_rows": null,
       "grid_column": null,
       "grid_gap": null,
       "grid_row": null,
       "grid_template_areas": null,
       "grid_template_columns": null,
       "grid_template_rows": null,
       "height": null,
       "justify_content": null,
       "justify_items": null,
       "left": null,
       "margin": null,
       "max_height": null,
       "max_width": null,
       "min_height": null,
       "min_width": null,
       "object_fit": null,
       "object_position": null,
       "order": null,
       "overflow": null,
       "padding": null,
       "right": null,
       "top": null,
       "visibility": null,
       "width": null
      }
     },
     "2e7e81af30c747568a04461306be30be": {
      "model_module": "@jupyter-widgets/controls",
      "model_module_version": "2.0.0",
      "model_name": "HBoxModel",
      "state": {
       "_dom_classes": [],
       "_model_module": "@jupyter-widgets/controls",
       "_model_module_version": "2.0.0",
       "_model_name": "HBoxModel",
       "_view_count": null,
       "_view_module": "@jupyter-widgets/controls",
       "_view_module_version": "2.0.0",
       "_view_name": "HBoxView",
       "box_style": "",
       "children": [
        "IPY_MODEL_da7e627c6397492b8e7f5e0a51245b8d",
        "IPY_MODEL_596f3eb3073d489790c2e1631956b83b",
        "IPY_MODEL_c0a4febbb7004badbaef4b1ffab422fc"
       ],
       "layout": "IPY_MODEL_9819a506039f4822a624ff8647f58c4c",
       "tabbable": null,
       "tooltip": null
      }
     },
     "34c1649d2c2347e49d625fd01eccfab4": {
      "model_module": "@jupyter-widgets/controls",
      "model_module_version": "2.0.0",
      "model_name": "ProgressStyleModel",
      "state": {
       "_model_module": "@jupyter-widgets/controls",
       "_model_module_version": "2.0.0",
       "_model_name": "ProgressStyleModel",
       "_view_count": null,
       "_view_module": "@jupyter-widgets/base",
       "_view_module_version": "2.0.0",
       "_view_name": "StyleView",
       "bar_color": null,
       "description_width": ""
      }
     },
     "353f8c45495d46c6b80fd59406eaaf73": {
      "model_module": "@jupyter-widgets/controls",
      "model_module_version": "2.0.0",
      "model_name": "FloatProgressModel",
      "state": {
       "_dom_classes": [],
       "_model_module": "@jupyter-widgets/controls",
       "_model_module_version": "2.0.0",
       "_model_name": "FloatProgressModel",
       "_view_count": null,
       "_view_module": "@jupyter-widgets/controls",
       "_view_module_version": "2.0.0",
       "_view_name": "ProgressView",
       "bar_style": "success",
       "description": "",
       "description_allow_html": false,
       "layout": "IPY_MODEL_887297e359de47f2bc669d513c155ee6",
       "max": 598599013.0,
       "min": 0.0,
       "orientation": "horizontal",
       "style": "IPY_MODEL_34c1649d2c2347e49d625fd01eccfab4",
       "tabbable": null,
       "tooltip": null,
       "value": 598599013.0
      }
     },
     "546c42d2be844e6b9ffcd61cc77de7a4": {
      "model_module": "@jupyter-widgets/base",
      "model_module_version": "2.0.0",
      "model_name": "LayoutModel",
      "state": {
       "_model_module": "@jupyter-widgets/base",
       "_model_module_version": "2.0.0",
       "_model_name": "LayoutModel",
       "_view_count": null,
       "_view_module": "@jupyter-widgets/base",
       "_view_module_version": "2.0.0",
       "_view_name": "LayoutView",
       "align_content": null,
       "align_items": null,
       "align_self": null,
       "border_bottom": null,
       "border_left": null,
       "border_right": null,
       "border_top": null,
       "bottom": null,
       "display": null,
       "flex": null,
       "flex_flow": null,
       "grid_area": null,
       "grid_auto_columns": null,
       "grid_auto_flow": null,
       "grid_auto_rows": null,
       "grid_column": null,
       "grid_gap": null,
       "grid_row": null,
       "grid_template_areas": null,
       "grid_template_columns": null,
       "grid_template_rows": null,
       "height": null,
       "justify_content": null,
       "justify_items": null,
       "left": null,
       "margin": null,
       "max_height": null,
       "max_width": null,
       "min_height": null,
       "min_width": null,
       "object_fit": null,
       "object_position": null,
       "order": null,
       "overflow": null,
       "padding": null,
       "right": null,
       "top": null,
       "visibility": null,
       "width": null
      }
     },
     "596f3eb3073d489790c2e1631956b83b": {
      "model_module": "@jupyter-widgets/controls",
      "model_module_version": "2.0.0",
      "model_name": "FloatProgressModel",
      "state": {
       "_dom_classes": [],
       "_model_module": "@jupyter-widgets/controls",
       "_model_module_version": "2.0.0",
       "_model_name": "FloatProgressModel",
       "_view_count": null,
       "_view_module": "@jupyter-widgets/controls",
       "_view_module_version": "2.0.0",
       "_view_name": "ProgressView",
       "bar_style": "success",
       "description": "",
       "description_allow_html": false,
       "layout": "IPY_MODEL_68e6e02287cc4878a709f05eee37c5eb",
       "max": 469.0,
       "min": 0.0,
       "orientation": "horizontal",
       "style": "IPY_MODEL_0f7893c38b304ed6b695a85d73f1b6c7",
       "tabbable": null,
       "tooltip": null,
       "value": 469.0
      }
     },
     "68e6e02287cc4878a709f05eee37c5eb": {
      "model_module": "@jupyter-widgets/base",
      "model_module_version": "2.0.0",
      "model_name": "LayoutModel",
      "state": {
       "_model_module": "@jupyter-widgets/base",
       "_model_module_version": "2.0.0",
       "_model_name": "LayoutModel",
       "_view_count": null,
       "_view_module": "@jupyter-widgets/base",
       "_view_module_version": "2.0.0",
       "_view_name": "LayoutView",
       "align_content": null,
       "align_items": null,
       "align_self": null,
       "border_bottom": null,
       "border_left": null,
       "border_right": null,
       "border_top": null,
       "bottom": null,
       "display": null,
       "flex": null,
       "flex_flow": null,
       "grid_area": null,
       "grid_auto_columns": null,
       "grid_auto_flow": null,
       "grid_auto_rows": null,
       "grid_column": null,
       "grid_gap": null,
       "grid_row": null,
       "grid_template_areas": null,
       "grid_template_columns": null,
       "grid_template_rows": null,
       "height": null,
       "justify_content": null,
       "justify_items": null,
       "left": null,
       "margin": null,
       "max_height": null,
       "max_width": null,
       "min_height": null,
       "min_width": null,
       "object_fit": null,
       "object_position": null,
       "order": null,
       "overflow": null,
       "padding": null,
       "right": null,
       "top": null,
       "visibility": null,
       "width": null
      }
     },
     "6c7c969dab35476589869c9bcf8599de": {
      "model_module": "@jupyter-widgets/controls",
      "model_module_version": "2.0.0",
      "model_name": "HTMLStyleModel",
      "state": {
       "_model_module": "@jupyter-widgets/controls",
       "_model_module_version": "2.0.0",
       "_model_name": "HTMLStyleModel",
       "_view_count": null,
       "_view_module": "@jupyter-widgets/base",
       "_view_module_version": "2.0.0",
       "_view_name": "StyleView",
       "background": null,
       "description_width": "",
       "font_size": null,
       "text_color": null
      }
     },
     "73b019dd94094386af0af6a33db4ea2a": {
      "model_module": "@jupyter-widgets/controls",
      "model_module_version": "2.0.0",
      "model_name": "HTMLStyleModel",
      "state": {
       "_model_module": "@jupyter-widgets/controls",
       "_model_module_version": "2.0.0",
       "_model_name": "HTMLStyleModel",
       "_view_count": null,
       "_view_module": "@jupyter-widgets/base",
       "_view_module_version": "2.0.0",
       "_view_name": "StyleView",
       "background": null,
       "description_width": "",
       "font_size": null,
       "text_color": null
      }
     },
     "887297e359de47f2bc669d513c155ee6": {
      "model_module": "@jupyter-widgets/base",
      "model_module_version": "2.0.0",
      "model_name": "LayoutModel",
      "state": {
       "_model_module": "@jupyter-widgets/base",
       "_model_module_version": "2.0.0",
       "_model_name": "LayoutModel",
       "_view_count": null,
       "_view_module": "@jupyter-widgets/base",
       "_view_module_version": "2.0.0",
       "_view_name": "LayoutView",
       "align_content": null,
       "align_items": null,
       "align_self": null,
       "border_bottom": null,
       "border_left": null,
       "border_right": null,
       "border_top": null,
       "bottom": null,
       "display": null,
       "flex": null,
       "flex_flow": null,
       "grid_area": null,
       "grid_auto_columns": null,
       "grid_auto_flow": null,
       "grid_auto_rows": null,
       "grid_column": null,
       "grid_gap": null,
       "grid_row": null,
       "grid_template_areas": null,
       "grid_template_columns": null,
       "grid_template_rows": null,
       "height": null,
       "justify_content": null,
       "justify_items": null,
       "left": null,
       "margin": null,
       "max_height": null,
       "max_width": null,
       "min_height": null,
       "min_width": null,
       "object_fit": null,
       "object_position": null,
       "order": null,
       "overflow": null,
       "padding": null,
       "right": null,
       "top": null,
       "visibility": null,
       "width": null
      }
     },
     "8d2181104a65413ba7c98d1b6ec2d914": {
      "model_module": "@jupyter-widgets/controls",
      "model_module_version": "2.0.0",
      "model_name": "HTMLStyleModel",
      "state": {
       "_model_module": "@jupyter-widgets/controls",
       "_model_module_version": "2.0.0",
       "_model_name": "HTMLStyleModel",
       "_view_count": null,
       "_view_module": "@jupyter-widgets/base",
       "_view_module_version": "2.0.0",
       "_view_name": "StyleView",
       "background": null,
       "description_width": "",
       "font_size": null,
       "text_color": null
      }
     },
     "9819a506039f4822a624ff8647f58c4c": {
      "model_module": "@jupyter-widgets/base",
      "model_module_version": "2.0.0",
      "model_name": "LayoutModel",
      "state": {
       "_model_module": "@jupyter-widgets/base",
       "_model_module_version": "2.0.0",
       "_model_name": "LayoutModel",
       "_view_count": null,
       "_view_module": "@jupyter-widgets/base",
       "_view_module_version": "2.0.0",
       "_view_name": "LayoutView",
       "align_content": null,
       "align_items": null,
       "align_self": null,
       "border_bottom": null,
       "border_left": null,
       "border_right": null,
       "border_top": null,
       "bottom": null,
       "display": null,
       "flex": null,
       "flex_flow": null,
       "grid_area": null,
       "grid_auto_columns": null,
       "grid_auto_flow": null,
       "grid_auto_rows": null,
       "grid_column": null,
       "grid_gap": null,
       "grid_row": null,
       "grid_template_areas": null,
       "grid_template_columns": null,
       "grid_template_rows": null,
       "height": null,
       "justify_content": null,
       "justify_items": null,
       "left": null,
       "margin": null,
       "max_height": null,
       "max_width": null,
       "min_height": null,
       "min_width": null,
       "object_fit": null,
       "object_position": null,
       "order": null,
       "overflow": null,
       "padding": null,
       "right": null,
       "top": null,
       "visibility": null,
       "width": null
      }
     },
     "991489cfc53040bd92b4ef19bae3d00e": {
      "model_module": "@jupyter-widgets/base",
      "model_module_version": "2.0.0",
      "model_name": "LayoutModel",
      "state": {
       "_model_module": "@jupyter-widgets/base",
       "_model_module_version": "2.0.0",
       "_model_name": "LayoutModel",
       "_view_count": null,
       "_view_module": "@jupyter-widgets/base",
       "_view_module_version": "2.0.0",
       "_view_name": "LayoutView",
       "align_content": null,
       "align_items": null,
       "align_self": null,
       "border_bottom": null,
       "border_left": null,
       "border_right": null,
       "border_top": null,
       "bottom": null,
       "display": null,
       "flex": null,
       "flex_flow": null,
       "grid_area": null,
       "grid_auto_columns": null,
       "grid_auto_flow": null,
       "grid_auto_rows": null,
       "grid_column": null,
       "grid_gap": null,
       "grid_row": null,
       "grid_template_areas": null,
       "grid_template_columns": null,
       "grid_template_rows": null,
       "height": null,
       "justify_content": null,
       "justify_items": null,
       "left": null,
       "margin": null,
       "max_height": null,
       "max_width": null,
       "min_height": null,
       "min_width": null,
       "object_fit": null,
       "object_position": null,
       "order": null,
       "overflow": null,
       "padding": null,
       "right": null,
       "top": null,
       "visibility": null,
       "width": null
      }
     },
     "9bc140ca7d0b4f58a89678e8f8c77e9b": {
      "model_module": "@jupyter-widgets/base",
      "model_module_version": "2.0.0",
      "model_name": "LayoutModel",
      "state": {
       "_model_module": "@jupyter-widgets/base",
       "_model_module_version": "2.0.0",
       "_model_name": "LayoutModel",
       "_view_count": null,
       "_view_module": "@jupyter-widgets/base",
       "_view_module_version": "2.0.0",
       "_view_name": "LayoutView",
       "align_content": null,
       "align_items": null,
       "align_self": null,
       "border_bottom": null,
       "border_left": null,
       "border_right": null,
       "border_top": null,
       "bottom": null,
       "display": null,
       "flex": null,
       "flex_flow": null,
       "grid_area": null,
       "grid_auto_columns": null,
       "grid_auto_flow": null,
       "grid_auto_rows": null,
       "grid_column": null,
       "grid_gap": null,
       "grid_row": null,
       "grid_template_areas": null,
       "grid_template_columns": null,
       "grid_template_rows": null,
       "height": null,
       "justify_content": null,
       "justify_items": null,
       "left": null,
       "margin": null,
       "max_height": null,
       "max_width": null,
       "min_height": null,
       "min_width": null,
       "object_fit": null,
       "object_position": null,
       "order": null,
       "overflow": null,
       "padding": null,
       "right": null,
       "top": null,
       "visibility": null,
       "width": null
      }
     },
     "9f87296fdc784e29b42abec44ea3f23e": {
      "model_module": "@jupyter-widgets/controls",
      "model_module_version": "2.0.0",
      "model_name": "HTMLModel",
      "state": {
       "_dom_classes": [],
       "_model_module": "@jupyter-widgets/controls",
       "_model_module_version": "2.0.0",
       "_model_name": "HTMLModel",
       "_view_count": null,
       "_view_module": "@jupyter-widgets/controls",
       "_view_module_version": "2.0.0",
       "_view_name": "HTMLView",
       "description": "",
       "description_allow_html": false,
       "layout": "IPY_MODEL_9bc140ca7d0b4f58a89678e8f8c77e9b",
       "placeholder": "​",
       "style": "IPY_MODEL_8d2181104a65413ba7c98d1b6ec2d914",
       "tabbable": null,
       "tooltip": null,
       "value": "open_clip_pytorch_model.bin: 100%"
      }
     },
     "c0a4febbb7004badbaef4b1ffab422fc": {
      "model_module": "@jupyter-widgets/controls",
      "model_module_version": "2.0.0",
      "model_name": "HTMLModel",
      "state": {
       "_dom_classes": [],
       "_model_module": "@jupyter-widgets/controls",
       "_model_module_version": "2.0.0",
       "_model_name": "HTMLModel",
       "_view_count": null,
       "_view_module": "@jupyter-widgets/controls",
       "_view_module_version": "2.0.0",
       "_view_name": "HTMLView",
       "description": "",
       "description_allow_html": false,
       "layout": "IPY_MODEL_f825f5e9007c4d2198225fb2db8241dd",
       "placeholder": "​",
       "style": "IPY_MODEL_074378318f3e47669d8722e84a65c1e8",
       "tabbable": null,
       "tooltip": null,
       "value": " 469/469 [00:00&lt;00:00, 43.8kB/s]"
      }
     },
     "c7239f44620b486a9ec52ad36e7e377e": {
      "model_module": "@jupyter-widgets/controls",
      "model_module_version": "2.0.0",
      "model_name": "HTMLModel",
      "state": {
       "_dom_classes": [],
       "_model_module": "@jupyter-widgets/controls",
       "_model_module_version": "2.0.0",
       "_model_name": "HTMLModel",
       "_view_count": null,
       "_view_module": "@jupyter-widgets/controls",
       "_view_module_version": "2.0.0",
       "_view_name": "HTMLView",
       "description": "",
       "description_allow_html": false,
       "layout": "IPY_MODEL_546c42d2be844e6b9ffcd61cc77de7a4",
       "placeholder": "​",
       "style": "IPY_MODEL_73b019dd94094386af0af6a33db4ea2a",
       "tabbable": null,
       "tooltip": null,
       "value": " 599M/599M [00:02&lt;00:00, 236MB/s]"
      }
     },
     "cade31663bae436b9f52f65e0dad504a": {
      "model_module": "@jupyter-widgets/controls",
      "model_module_version": "2.0.0",
      "model_name": "HBoxModel",
      "state": {
       "_dom_classes": [],
       "_model_module": "@jupyter-widgets/controls",
       "_model_module_version": "2.0.0",
       "_model_name": "HBoxModel",
       "_view_count": null,
       "_view_module": "@jupyter-widgets/controls",
       "_view_module_version": "2.0.0",
       "_view_name": "HBoxView",
       "box_style": "",
       "children": [
        "IPY_MODEL_9f87296fdc784e29b42abec44ea3f23e",
        "IPY_MODEL_353f8c45495d46c6b80fd59406eaaf73",
        "IPY_MODEL_c7239f44620b486a9ec52ad36e7e377e"
       ],
       "layout": "IPY_MODEL_991489cfc53040bd92b4ef19bae3d00e",
       "tabbable": null,
       "tooltip": null
      }
     },
     "da7e627c6397492b8e7f5e0a51245b8d": {
      "model_module": "@jupyter-widgets/controls",
      "model_module_version": "2.0.0",
      "model_name": "HTMLModel",
      "state": {
       "_dom_classes": [],
       "_model_module": "@jupyter-widgets/controls",
       "_model_module_version": "2.0.0",
       "_model_name": "HTMLModel",
       "_view_count": null,
       "_view_module": "@jupyter-widgets/controls",
       "_view_module_version": "2.0.0",
       "_view_name": "HTMLView",
       "description": "",
       "description_allow_html": false,
       "layout": "IPY_MODEL_2cfc969e6851484c8f26f2dee8100c74",
       "placeholder": "​",
       "style": "IPY_MODEL_6c7c969dab35476589869c9bcf8599de",
       "tabbable": null,
       "tooltip": null,
       "value": "open_clip_config.json: 100%"
      }
     },
     "f825f5e9007c4d2198225fb2db8241dd": {
      "model_module": "@jupyter-widgets/base",
      "model_module_version": "2.0.0",
      "model_name": "LayoutModel",
      "state": {
       "_model_module": "@jupyter-widgets/base",
       "_model_module_version": "2.0.0",
       "_model_name": "LayoutModel",
       "_view_count": null,
       "_view_module": "@jupyter-widgets/base",
       "_view_module_version": "2.0.0",
       "_view_name": "LayoutView",
       "align_content": null,
       "align_items": null,
       "align_self": null,
       "border_bottom": null,
       "border_left": null,
       "border_right": null,
       "border_top": null,
       "bottom": null,
       "display": null,
       "flex": null,
       "flex_flow": null,
       "grid_area": null,
       "grid_auto_columns": null,
       "grid_auto_flow": null,
       "grid_auto_rows": null,
       "grid_column": null,
       "grid_gap": null,
       "grid_row": null,
       "grid_template_areas": null,
       "grid_template_columns": null,
       "grid_template_rows": null,
       "height": null,
       "justify_content": null,
       "justify_items": null,
       "left": null,
       "margin": null,
       "max_height": null,
       "max_width": null,
       "min_height": null,
       "min_width": null,
       "object_fit": null,
       "object_position": null,
       "order": null,
       "overflow": null,
       "padding": null,
       "right": null,
       "top": null,
       "visibility": null,
       "width": null
      }
     }
    },
    "version_major": 2,
    "version_minor": 0
   }
  }
 },
 "nbformat": 4,
 "nbformat_minor": 5
}
